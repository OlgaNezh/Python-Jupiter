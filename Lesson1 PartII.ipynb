{
 "cells": [
  {
   "cell_type": "markdown",
   "metadata": {},
   "source": [
    "#### 1 Приведите по 2 примера, когда лучше максимизировать Precision, а когда Recall.\n"
   ]
  },
  {
   "cell_type": "markdown",
   "metadata": {},
   "source": [
    "*Precision* - точность отражает какой процент объектов, отнесённых к \"основному\" классу, действительно являются таковыми.\n",
    "\n",
    "*Recall* - полнота отражает какой процент объектов \"основного\" класса было обнаружено алгоритмом."
   ]
  },
  {
   "cell_type": "markdown",
   "metadata": {},
   "source": [
    "Информационный поиск, предсказание тренда на фондовом рынку, погоды - precision. \n",
    "Фрод, кредитный скоринг, диагностика рака, предсказание землетрясений - recall.\n"
   ]
  },
  {
   "cell_type": "markdown",
   "metadata": {},
   "source": [
    "#### 2 Почему мы используем F-меру, почему, например, нельзя просто взять среднее от Precision и Recall?\n"
   ]
  },
  {
   "cell_type": "markdown",
   "metadata": {},
   "source": [
    "F-мера нужна для того, чтобы задать (и измерить) важность значениям Precision и Recall для поставленной задачи в их пропорциях. Например, если Recall в два раза важнее, чем Precision, то нужная для нас мера - F2. Среднее значение от Precision и Recall не подходит для несбалансированных данных. Например, если поставленная задача (target variable) не является правдой в 99% случаев, то выявить это можно, задав macro параметр F-мере, а не через усредненное значение (которое покажет хороший результат). Мы не можем использовать просто среднее значение, потому что оно не даёт полного представления о совместной оценке Precision и Recall. Среднее значение будет одинаково равно 0.5 в случае, если оба параметра равны 0.5 и в случае, если один равен 1, а второй 0.\n",
    "\n"
   ]
  },
  {
   "cell_type": "code",
   "execution_count": null,
   "metadata": {},
   "outputs": [],
   "source": []
  }
 ],
 "metadata": {
  "kernelspec": {
   "display_name": "Python 3",
   "language": "python",
   "name": "python3"
  },
  "language_info": {
   "codemirror_mode": {
    "name": "ipython",
    "version": 3
   },
   "file_extension": ".py",
   "mimetype": "text/x-python",
   "name": "python",
   "nbconvert_exporter": "python",
   "pygments_lexer": "ipython3",
   "version": "3.8.3"
  }
 },
 "nbformat": 4,
 "nbformat_minor": 4
}
